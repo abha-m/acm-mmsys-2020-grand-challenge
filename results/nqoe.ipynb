{
 "nbformat": 4,
 "nbformat_minor": 2,
 "metadata": {
  "language_info": {
   "name": "python",
   "codemirror_mode": {
    "name": "ipython",
    "version": 3
   },
   "version": "3.7.4-final"
  },
  "orig_nbformat": 2,
  "file_extension": ".py",
  "mimetype": "text/x-python",
  "name": "python",
  "npconvert_exporter": "python",
  "pygments_lexer": "ipython3",
  "version": 3,
  "kernelspec": {
   "name": "python3",
   "display_name": "Python 3"
  }
 },
 "cells": [
  {
   "cell_type": "code",
   "execution_count": 49,
   "metadata": {},
   "outputs": [],
   "source": [
    "import pandas as pd\n",
    "import collections\n",
    "import os\n",
    "import pprint\n",
    "import seaborn as sns\n",
    "import json\n",
    "import pprint\n",
    "import numpy as np"
   ]
  },
  {
   "cell_type": "code",
   "execution_count": 43,
   "metadata": {},
   "outputs": [],
   "source": [
    "network_profiles = ['PROFILE_CASCADE', 'PROFILE_INTRA_CASCADE', 'PROFILE_SPIKE', 'PROFILE_SLOW_JITTERS', 'PROFILE_FAST_JITTERS']\n",
    "dynamic_profile_json = collections.defaultdict(list)\n",
    "bola_profile_json = collections.defaultdict(list)\n",
    "throughput_profile_json = collections.defaultdict(list)\n",
    "dynamic_directory = './trace/Dynamic'\n",
    "bola_directory = './trace/BOLA'\n",
    "throughput_directory = './trace/Throughput'"
   ]
  },
  {
   "cell_type": "code",
   "execution_count": 44,
   "metadata": {},
   "outputs": [],
   "source": [
    "for filename in os.listdir(dynamic_directory):\n",
    "    for p in network_profiles:\n",
    "        if p in filename:\n",
    "            dynamic_profile_json[p].append(dynamic_directory + '/' + filename)\n",
    "for filename in os.listdir(bola_directory):\n",
    "    for p in network_profiles:\n",
    "        if p in filename:\n",
    "            bola_profile_json[p].append(bola_directory + '/' + filename)\n",
    "for filename in os.listdir(throughput_directory):\n",
    "    for p in network_profiles:\n",
    "        if p in filename:\n",
    "            throughput_profile_json[p].append(throughput_directory + '/' + filename)"
   ]
  },
  {
   "cell_type": "code",
   "execution_count": 45,
   "metadata": {},
   "outputs": [],
   "source": [
    "nqoe_dynamic_profile = collections.defaultdict(list)\n",
    "nqoe_bola_profile = collections.defaultdict(list)\n",
    "nqoe_throughput_profile = collections.defaultdict(list)"
   ]
  },
  {
   "cell_type": "code",
   "execution_count": 46,
   "metadata": {},
   "outputs": [],
   "source": [
    "def compute_nqoe(trace, profile, abrAlgorithm):\n",
    "    alpha = 1 # Bitrate reward factor (= chunk duration [segment duration [e.g., 1 seconds]])\n",
    "    beta = 1000000 # Rebuffering penalty factor (= maximum encoding bitrate level [e.g., 1000 Kbps])\n",
    "    sigma = 200000 # Playback speed penalty factor (= minimum encoding bitrate level [e.g., 200 Kbps])\n",
    "    mu = 0.02 # Bitrate switch penalty factor (= 0.02 seconds or = 1 second if the bitrate switch is too important)\n",
    "\n",
    "    currentBitrate = 1000000\n",
    "    currentQoE_term1 = 0\n",
    "    currentQoE_term2 = 0\n",
    "\n",
    "    len_trace = len(trace)\n",
    "    for i, t in enumerate(trace):\n",
    "        currentBitrate = t[\"currentQuality\"][\"bitrate\"] if t[\"currentQuality\"] else currentBitrate\n",
    "        currentRebufferingTime = t[\"currentStallDuration\"]\n",
    "        currentLatency = t[\"currentLatency\"]\n",
    "        gamma = 0.005 if currentLatency <= 1.1 else 0.01 # live latency penalty factor\n",
    "        if i == len_trace - 1:\n",
    "            nextBitrate = 0\n",
    "        else:\n",
    "            nextBitrate = trace[i+1][\"currentQuality\"][\"bitrate\"] if trace[i+1][\"currentQuality\"] else currentBitrate\n",
    "        currentQoE_term1 += (alpha*currentBitrate - beta*currentRebufferingTime - gamma*currentLatency)\n",
    "        currentQoE_term2 += (mu * abs(nextBitrate - currentBitrate))\n",
    "    \n",
    "    nQoE = currentQoE_term1 - currentQoE_term2\n",
    "    if abrAlgorithm == 'dynamic':\n",
    "        nqoe_dynamic_profile[profile].append(nQoE)\n",
    "    elif abrAlgorithm == 'bola':\n",
    "        nqoe_bola_profile[profile].append(nQoE)\n",
    "    elif abrAlgorithm == 'throughput':\n",
    "        nqoe_throughput_profile[profile].append(nQoE)"
   ]
  },
  {
   "cell_type": "code",
   "execution_count": 47,
   "metadata": {},
   "outputs": [
    {
     "name": "stdout",
     "output_type": "stream",
     "text": "-18561796005.437405\n-19033541005.36053\n-22792595016.34713\n-19082437005.4645\n-20456871005.554356\n-20817348040.002117\n-17367763005.219048\n-19818558005.290413\n-17820050005.234375\n-16237498015.459671\n-17332587005.338028\n-17188016005.46612\n-20787018005.37737\n-18488132005.506557\n-19386292005.384556\n-19821845005.435608\n-16881368005.258018\n-20161747005.51733\n-20465412005.74961\n-17637816005.3455\n-17058727005.011414\n-18173428005.31942\n-20330529005.423172\n-19623825004.99876\n-17207583005.25411\n-16530111005.11734\n-19052035005.441364\n-16612957012.633179\n-20736916005.487667\n-19916960044.684948\n-18164074005.099545\n-24850135027.551815\n-24661805020.151543\n-21820335025.663296\n-25203770024.597862\n-21363625026.1815\n-23471885025.174603\n-23277090026.658627\n-22939590025.69653\n-24162905024.712814\n-22546765022.39221\n-24523340024.62096\n-24122025025.250732\n-24048445023.20585\n-22837505025.096825\n-22140290025.419895\n-23365450023.701027\n-22788595024.604187\n-23009615023.474194\n-23106315025.03264\n-23870605023.506744\n-23914450026.604668\n-25127595024.59665\n-22088585025.243286\n-25572805025.01164\n-24628625023.35388\n-24413420027.021114\n-22548580025.755573\n-24171795025.539295\n-24165348026.220974\n-23914225020.62565\n-7154285005.370663\n-4754660003.606529\n-9134000006.078848\n-8105430005.543581\n-9102330006.089022\n-7653305005.597617\n-7079770004.9653635\n-6416765005.072485\n-5992105004.074634\n-4398786002.906643\n-7659980005.38649\n-8677285005.160975\n-8641605006.011135\n-5227905001.191818\n-5915645004.326728\n-7156130005.269493\n-5910086001.184832\n-8149875005.873273\n-9279936006.404562\n-5219530001.161926\n-8162550005.468226\n-8393765005.953427\n-7337455004.789747\n-5904105004.08853\n-6412415004.84301\n-4225456000.9923286\n-7149535005.485376\n-5439770004.139031\n-8649645005.985617\n-5004650003.7578745\n-4949650004.429339\n-4683055004.348723\n-3925476004.1517296\n-4427995004.672226\n-4458941004.290319\n-4686641004.645336\n-5423500004.898795\n-4947105004.240841\n-5717576005.002243\n-4946050004.814281\n-5969221004.836646\n-5011306004.665689\n-4680715004.582656\n-13084150006.537956\n-4425555004.292773\n-4675820004.422621\n-3926850004.0864687\n-5459676004.9235115\n-4684720004.417533\n-3968076003.4215684\n-4953135004.621682\n-4964065004.811323\n-5478071001.101115\n-4697300004.587403\n-5194265004.635296\n-6188606005.006406\n-4955595004.766581\n-4698965004.4963875\n-5179600004.623258\n-6185325004.903612\n57979999.72296496\n-1225895000.386865\n57979999.72094503\n57979999.72206499\n-808365000.3579836\n57979999.720835045\n57979999.72103003\n57979999.723495\n57979999.72340497\n57979999.72320494\n57979999.722089976\n-1230591000.2885153\n57979999.723995045\n57979999.723399945\n57979999.722714975\n57979999.72413504\n57979999.72264498\n57979999.722749986\n57979999.72307495\n57979999.72250995\n57979999.72207998\n57979999.72388505\n57979999.72170502\n57979999.72128005\n57979999.72081505\n-632480000.343457\n-224155000.28701606\n-728401000.4059291\n57979999.72131506\n57979999.72321994\n"
    }
   ],
   "source": [
    "for p in network_profiles:\n",
    "    for filename in dynamic_profile_json[p]:\n",
    "        with open(filename) as f:\n",
    "            trace = json.load(f)\n",
    "        compute_nqoe(trace, p, 'dynamic')\n",
    "    for filename in bola_profile_json[p]:\n",
    "        with open(filename) as f:\n",
    "            trace = json.load(f)\n",
    "        compute_nqoe(trace, p, 'bola')\n",
    "    for filename in throughput_profile_json[p]:\n",
    "        with open(filename) as f:\n",
    "            trace = json.load(f)\n",
    "        compute_nqoe(trace, p, 'throughput')\n"
   ]
  },
  {
   "cell_type": "code",
   "execution_count": 51,
   "metadata": {},
   "outputs": [],
   "source": [
    "average_qoe_dynamic = 0\n",
    "average_qoe_bola = 0\n",
    "average_qoe_throughput = 0\n",
    "\n",
    "for p in network_profiles:\n",
    "    for nqoe_trace in nqoe_dynamic_profile[p]:\n",
    "        average_qoe_dynamic += np.median(nqoe_trace)\n",
    "    for nqoe_trace in nqoe_bola_profile[p]:\n",
    "        average_qoe_bola += np.median(nqoe_trace)\n",
    "    for nqoe_trace in nqoe_throughput_profile[p]:\n",
    "        average_qoe_throughput += np.median(nqoe_trace)\n",
    "average_qoe_dynamic /= len(network_profiles)\n",
    "average_qoe_bola /= len(network_profiles)\n",
    "average_qoe_throughput /= len(network_profiles)"
   ]
  },
  {
   "cell_type": "code",
   "execution_count": 52,
   "metadata": {},
   "outputs": [
    {
     "data": {
      "text/plain": "(-109162841491.18332, -114861941083.16724, -108078314483.97545)"
     },
     "execution_count": 52,
     "metadata": {},
     "output_type": "execute_result"
    }
   ],
   "source": [
    "average_qoe_dynamic, average_qoe_throughput, average_qoe_bola"
   ]
  }
 ]
}